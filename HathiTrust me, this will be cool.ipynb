{
 "cells": [
  {
   "cell_type": "markdown",
   "metadata": {},
   "source": [
    "This notebook uses data from the [HathiTrust Research Center](https://sharc.hathitrust.org/genre). A few caveats about the provenance and method of selection of the data:\n",
    "- only English\n",
    "- texts published 1700-1799, but may include reprints of earlier materials\n",
    "- volumes held by large public or university libraries, primarily in the United States.\n",
    "- the creators don't recommend the dataset as a source for literary research before 1750, since texts published pre-1800 is often in Special Collections and digitization is less predictable.\n",
    "- A short version: the model's predictions about genre matched human descriptions 93.6% of the time, which is roughly as often as our six human readers agreed with each other (94.5%). Moreover, the datasets provided here have passed through additional (automatic and manual) filtering that allows us to guarantee better than 97% precision.\n",
    "\n",
    "See the HathiTrust Research Center for more observations on normalization, OCR correction, metadata, and more."
   ]
  },
  {
   "cell_type": "markdown",
   "metadata": {},
   "source": [
    "All right, let's set up our classifier:\n",
    "\n",
    "The first step is to (re)build our philosophical classifier. It's worth reiterating that the classifier is being trained on a relatively small corpus (so isn't likely as representative as it might be) and that the new HTRC genre corpus is literature-specific (so a different kind of beast from our training corpus). Is it still useful as a classifier? that's part of what we'd like to find out.\n",
    "The classifier created below is essentially the same as before, though we'll use the LinearSVC algorithm because it provides a way of not just classifying (philosophical or non-philosophical) but also of expressing a value for how philosophical or not the text is."
   ]
  },
  {
   "cell_type": "code",
   "execution_count": 10,
   "metadata": {
    "collapsed": false
   },
   "outputs": [
    {
     "name": "stderr",
     "output_type": "stream",
     "text": [
      "C:\\Users\\broomgrass\\Anaconda3\\lib\\site-packages\\sklearn\\svm\\classes.py:197: DeprecationWarning: loss='l2' has been deprecated in favor of loss='squared_hinge' as of 0.16. Backward compatibility for the loss='l2' will be removed in 1.0\n",
      "  DeprecationWarning)\n"
     ]
    },
    {
     "data": {
      "text/plain": [
       "LinearSVC(C=1.0, class_weight=None, dual=False, fit_intercept=True,\n",
       "     intercept_scaling=1, loss='squared_hinge', max_iter=1000,\n",
       "     multi_class='ovr', penalty='l2', random_state=None, tol=0.001,\n",
       "     verbose=0)"
      ]
     },
     "execution_count": 10,
     "metadata": {},
     "output_type": "execute_result"
    }
   ],
   "source": [
    "import nltk\n",
    "from sklearn.feature_extraction.text import TfidfVectorizer\n",
    "from sklearn.svm import LinearSVC\n",
    "\n",
    "# define the training corpus to use \n",
    "trav_data_dir = \"C:/Users/broomgrass/iPython/Dream/data/texts\"\n",
    "trav_corpus = nltk.corpus.reader.plaintext.PlaintextCorpusReader(trav_data_dir+\"/modcorpus\", \".*\\.txt\")\n",
    "filtered_fileids = [fileid for fileid in trav_corpus.fileids()]\n",
    "\n",
    "# create TF-IDF (actually relative frequencies) vectorizer\n",
    "stopword_vectorizer = TfidfVectorizer(use_idf=False, stop_words=nltk.corpus.stopwords.words(\"english\"), max_features=10000)\n",
    "X_train = stopword_vectorizer.fit_transform([trav_corpus.raw(fileid) for fileid in filtered_fileids])\n",
    "trav_categories = [\"Other\" if \"Other\" in fileid else \"Travel\" for fileid in filtered_fileids]\n",
    "\n",
    "# create a classifier\n",
    "trav_clf = LinearSVC(loss='l2', penalty=\"l2\", dual=False, tol=1e-3)\n",
    "trav_clf.fit(X_train, trav_categories)"
   ]
  },
  {
   "cell_type": "code",
   "execution_count": 16,
   "metadata": {
    "collapsed": false
   },
   "outputs": [
    {
     "data": {
      "text/plain": [
       "['1650 1650 - Raleigh Walter Sir 1552-1 - Sir Walter Rawleigh his a.xml.txt',\n",
       " '1650 1650 - Taylor John 1580-1653 - A late weary merry voyage.xml.txt',\n",
       " '1653 1653 - Pinto Fernäao Mendes d 15 - The voyages and adventure.xml.txt',\n",
       " '1655 1655 - Brett Samuel - A narrative of the procee.xml.txt',\n",
       " '1655 1655 - Terry Edward 1590-1660 - A voyage to East-India Wh.xml.txt',\n",
       " '1656 1656 - Heylyn Peter 1600-1662 - A survey of the estate of.xml.txt',\n",
       " '1656 1656 - Heylyn Peter 1600-1662 - Full relation of two jour.xml.txt',\n",
       " '1657 1657 - Godwin Francis 1562-1633 - The man in the moone or A.xml.txt',\n",
       " '1659 1659 - Fowler Robert of the town - A Quakers sea-journal bei.xml.txt',\n",
       " '1661 ie 1660 1660 - Pagan Blaise François de - An historical amp geograp.xml.txt',\n",
       " '1664 1664 - Wyche Peter 1628-1699 Fre - The life of Dom John de C.xml.txt',\n",
       " '1665 1665 - Della Valle Pietro 1586-1 - The travels of Sig Pietro.xml.txt',\n",
       " '1665 1665 - Della Valle Pietro 1586-1 - Viaggi Part 3 English The.xml.txt',\n",
       " '1665 1665 - Gerbier Balthazar Sir 159 - Subsidium peregrinantibus.xml.txt',\n",
       " '1668 1668 - Neville Henry 1620-1694 - The Isle of Pines or A la.xml.txt',\n",
       " '1669 1669 - Mandelslo Johann Albrecht - The voyages and travells.xml.txt',\n",
       " '1670 1670 - Baratti Giacomo Góis Dami - The late travels of S Gia.xml.txt',\n",
       " '1670 1670 - Brunel Antoine de 1622-16 - A journey into Spain.xml.txt',\n",
       " '1671 1671 - Baltharpe John - St Davids poem The straig.xml.txt',\n",
       " '1671 1671 - Burbury John Norfolk Henr - A relation of a journey o.xml.txt',\n",
       " '1671 1671 - Samuel Clarke Clarke Samu - The life amp death of the.xml.txt',\n",
       " '1673 1673 - Ray John 1627-1705 Willug - Observations topographica.xml.txt',\n",
       " '1673 1673 Printed in the - Head Richard 1637-1686 - The floating island or A.xml.txt',\n",
       " '1677 1677 - Jean 1338-ca 1399 Mandevi - The voyages amp travels o.xml.txt',\n",
       " '1677 1677 1985 - Cox Daniel cox daniel d 1 - The six voyages of John B.xml.txt',\n",
       " '1678 1678 - Gailhard J Jean - Directions for the educat.xml.txt',\n",
       " '1680 1680 - Tavernier Jean-Baptiste 1 - A collection of several r.xml.txt',\n",
       " '1682 1682 - Glanius Mr - A new voyage to the East-.xml.txt',\n",
       " '1682 1682 - Glanius W - A relation of an unfortun.xml.txt',\n",
       " '1683 1683 - Bigges Walter -1586 drake - The Voyages of the ever r.xml.txt',\n",
       " '1683 1683 - Grelot Guillaume-Joseph b - A late voyage to Constant.xml.txt',\n",
       " '1684 1684 - Perez de Guzman Juan pére - The voyages and adventure.xml.txt',\n",
       " '1684 1684 - Quevedo Francisco de 1580 - The Travels of Don Franci.xml.txt',\n",
       " '1684 1684 - Smith William Harshfield - A full account of the lat.xml.txt',\n",
       " '1684 Mdclxxxiv 1684 MDCLX - Everard Edmund buttler já - Collections of travels th.xml.txt',\n",
       " '1685 1685 - ringrose basil -1686 Exqu - Bucaniers of America the.xml.txt',\n",
       " '1685 MDCLXXXV 1685 1685 - Brown Edward 1644-1708 - A brief account of some t.xml.txt',\n",
       " '1686 1686 - Chardin John Sir 1643-171 - The travels of Sir John C.xml.txt',\n",
       " '1686 1686 - Gentleman of the town of - A relation of the invasio.xml.txt',\n",
       " '1691 1691 - Carr William 17th cent En - An accurate description o.xml.txt',\n",
       " '1691 1691 - Dunton John 1659-1733 - A voyage round the world.xml.txt',\n",
       " '1691 1691 - English gentleman attendi - A late voyage to Holland.xml.txt',\n",
       " '1692 1692 - Taylor Thomas 1669 or 70- - A voyage to the world of.xml.txt',\n",
       " '1692 1692 - Timberlake Henry d 1626 R - Two journeys to Jerusalem.xml.txt',\n",
       " '1693 1693 - Fer Nicolas de 1646-1720 - Voyages and travels over.xml.txt',\n",
       " '1693 1693 - Hakluyt Richard 1552-1616 - Travels into divers parts.xml.txt',\n",
       " '1694 1694 - Brome James d 1719 Brome - An historical account of.xml.txt',\n",
       " '1694 1694 - Robinson Tancred d 1748 T - An account of several lat.xml.txt',\n",
       " '1695 1695 - Carr William 17th cent E - The travellours guide and.xml.txt',\n",
       " '1696 1696 - Dumont Jean baron de Carl - A new voyage to the Levan.xml.txt',\n",
       " '1696 1696 - Le Maire Jacques-Joseph d - A new voyage to the East-.xml.txt',\n",
       " '1697 1697 - Le Comte Louis 1655-1728 - Memoirs and observations.xml.txt',\n",
       " '1697 1697-1703 16971703 1 - Dampier William 1652-1715 - Mr William Dampieraposs v.xml.txt',\n",
       " '1698 1698 - Froger Francois b 1676 - Relation daposun voyage f.xml.txt',\n",
       " '1698 1698 - Fryer John d 1733 - A new account of East-Ind.xml.txt',\n",
       " '1698 1698 - Grillet Jean 1624-1677 bé - Voyages and discoveries i.xml.txt',\n",
       " '1698 1698 - Raveneau de Lussan Sieur - A journal of a voyage mad.xml.txt',\n",
       " '1698 1698 - Ward Edward 1667-1731 - A trip to Jamaica with a.xml.txt',\n",
       " '1698 1698 - king william 1663-1712 Ki - A journey to London in th.xml.txt',\n",
       " '1699 1699 - Casas Bartolomé de las 14 - An account of the first v.xml.txt',\n",
       " '1699 1699 - Ward Edward 1667-1731 - A trip to Ireland being a.xml.txt',\n",
       " '1699 1699 - Ward Edward 1667-1731 - A trip to New-England wit.xml.txt',\n",
       " '1699 1699 - felltham owen Ward Edward - A trip to Holland being a.xml.txt',\n",
       " '1700 1700 - Dalairac M François-Pauli - Secret history of the rei.xml.txt',\n",
       " '1700 1700 - Evelyn John 1620-1706 - A journey to England With.xml.txt',\n",
       " '1700 1700 - Frick Christoph b 1659 Sc - A relation of two several.xml.txt',\n",
       " 'MDCC 1700 1700 MDCC 1700 - Balfour Andrew Sir 1630-1 - Letters write sic to a fr.xml.txt',\n",
       " 'Other-1651 1651 - Hobbes Thomas 1588-1679 V - Philosophicall rudiments.xml.txt',\n",
       " 'Other-1651 1651 - Love Christopher 1618-165 - A vindication of Mr Chris.xml.txt',\n",
       " 'Other-1652 1652 - Winstanley Gerrard 1609- - The law of freedom in a p.xml.txt',\n",
       " 'Other-1652 1652 - hind james -1652 - Merry newes from Newgate.xml.txt',\n",
       " 'Other-1653 1653 - Faireclough Samuel 1625-1 - Svffolks tears or Elegies.xml.txt',\n",
       " 'Other-1654 1654 - Culpeper Nicholas 1616-16 - Astrological work left to.xml.txt',\n",
       " 'Other-1654 1654 - Hotham Charles 1615-1672 - A consolatory treatise of.xml.txt',\n",
       " 'Other-1654 1654 - strode william 1600-1645 - The Harmony of the muses.xml.txt',\n",
       " 'Other-1655 1655 - Fisher Samuel 1605-1665 f - Christianismus redivivus.xml.txt',\n",
       " 'Other-1655 1655 - Gardiner Ralph 1625- Gard - Englands grievance discov.xml.txt',\n",
       " 'Other-1655 1655 - Harrison Joseph - A glimpse of divine light.xml.txt',\n",
       " 'Other-1656 1656 - Davies John Sir 1569-1626 - The question concerning i.xml.txt',\n",
       " 'Other-1657 1657 - Jonstonus Joannes 1603-16 - An history of the constan.xml.txt',\n",
       " 'Other-1658 1658 - Burrough Edward 1634-1662 - Something of truth made m.xml.txt',\n",
       " 'Other-1659 1659 - Rushworth John 1612-1690 - Historical collections of.xml.txt',\n",
       " 'Other-1660 1660 - Anderdon John 1624-1685 - Against Babylon and her m.xml.txt',\n",
       " 'Other-1660 1660 - Harrington James 1611-167 - The Rota or A model of a.xml.txt',\n",
       " 'Other-1660 1660 - Smith William d 1673 Smit - Sweet oyle poured forth t.xml.txt',\n",
       " 'Other-1661 1661 - unknown author - A Most wonderful and sad.xml.txt',\n",
       " 'Other-1661 1661 - unknown author - Misery to bee lamented or.xml.txt',\n",
       " 'Other-1662 1662 - Howell James 1594-1666 - A new English grammar pre.xml.txt',\n",
       " 'Other-1662 1662 - Howgill Francis 1618-1669 - A testimony concerning th.xml.txt',\n",
       " 'Other-1663 1663 - Jordan Thomas 1612-1685 - A royal arbor of loyal po.xml.txt',\n",
       " 'Other-1664 1664 - Cotton Charles 1630-1687 - Scarronides or Le Virgile.xml.txt',\n",
       " 'Other-1664 1664 - Smith William d 1673 Smit - A true short impartial re.xml.txt',\n",
       " 'Other-1665 Printed in the year - Smith William d 1673 Smit - A new primmer wherein is.xml.txt',\n",
       " 'Other-1667 1667 - Penington Isaac 1616-1679 - Some things of great weig.xml.txt',\n",
       " 'Other-1667 1667 - unknown author - The Bloody butcher and th.xml.txt',\n",
       " 'Other-1668 1668 - Glanvill Joseph 1636-1680 - Plus ultra or The progres.xml.txt',\n",
       " 'Other-1670 1670 - Blount Thomas 1618-1679 - Nomo-lexikon a law-dictio.xml.txt',\n",
       " 'Other-1670 1670 - Dryden John 1631-1700 - Tyrannick love or The roy.xml.txt',\n",
       " 'Other-1672 1672 - Cotton Charles 1630-1687 - Chauceraposs ghoast or A.xml.txt',\n",
       " 'Other-1672 1672 - Wycherley William 1640-17 - Love in a wood or St Jame.xml.txt',\n",
       " 'Other-1673 1673 - Frith John - The witty jests and mad p.xml.txt',\n",
       " 'Other-1673 1673 - Helvetius Johann Friedric - The Philosophical epitaph.xml.txt',\n",
       " 'Other-1674 1674 - Godolphin John 1617-1678 - The orphans legacy or A t.xml.txt',\n",
       " 'Other-1675 1675 - Author of Westminster dro - Mock songs and joking poe.xml.txt',\n",
       " 'Other-1675 1675 - Phillips Edward 1630-1696 - Theatrum poetarum or A co.xml.txt',\n",
       " 'Other-1675 1675 - Settle Elkanah 1648-1724 - Love and revenge a traged.xml.txt',\n",
       " 'Other-1675 1675 - Shadwell Thomas 1642-1692 - Psyche a tragedy  written.xml.txt',\n",
       " 'Other-1676 1676 - Busschof Hermann - Two treatises the one med.xml.txt',\n",
       " 'Other-1677 1677 - Behn Aphra 1640-1689 Wilk - The town-fopp or Sir Timo.xml.txt',\n",
       " 'Other-1678 1678 - Scotland Privy Council Gi - Act discharging any to tr.xml.txt',\n",
       " 'Other-1679 1679 - England and Wales - It is this day ordered by.xml.txt',\n",
       " 'Other-1679 1679 - Scotland Privy Council - A proclamation dischargin.xml.txt',\n",
       " 'Other-1680 1680 - Dangerfield Thomas 1650-1 - The case of Tho Dangerfie.xml.txt',\n",
       " 'Other-1680 1680 - Prynne William 1600-1669 - The signal loyalty and de.xml.txt',\n",
       " 'Other-1681 1681 - Harrison Henry 1610 or 11 - The weary traveller his e.xml.txt',\n",
       " 'Other-1681 1681 - Humphrey Roger - Plain-dealing or A Second.xml.txt',\n",
       " 'Other-1681 1681 - Radcliffe Alexander fl 16 - Ovid travestie a burlesqu.xml.txt',\n",
       " 'Other-1682 1682 - Digby Kenelm Sir 1603-166 - A choice collection of ra.xml.txt',\n",
       " 'Other-1682 1682 - Dunton John 1627 or 1628- - The house of weeping or M.xml.txt',\n",
       " 'Other-1683 1683 - unknown author - A Dialogue between Iack K.xml.txt',\n",
       " 'Other-1684 1684 - Charles 1630-1685 Charles - At the court at Whitehall.xml.txt',\n",
       " 'Other-1685 1685 - Boyle Robert 1627-1691 - Of the reconcileableness.xml.txt',\n",
       " 'Other-1685 1685 - Briggs Thomas approximate - An account of some of the.xml.txt',\n",
       " 'Other-1686 1686 - Tate Nahum 1652-1715 J D - A memorial for the learne.xml.txt',\n",
       " 'Other-1686 1686 - tonken john - A True account of a stran.xml.txt',\n",
       " 'Other-1687 1687 - Abercromby David d 1701 o - Academia scientiarum or T.xml.txt',\n",
       " 'Other-1688 1688 - pennyman john 1628-1706 W - The grateful acknowledgme.xml.txt',\n",
       " 'Other-1688 1688 - william iii re daposinghi - The Prince of Orange vvel.xml.txt',\n",
       " 'Other-1688 Printed in the year - unknown author - Sodom fair or The market.xml.txt',\n",
       " 'Other-1690 1690 - Culpeper Thomas 1578-1662 - A discourse about trade w.xml.txt',\n",
       " 'Other-1690 1690 - unknown author - The contriving lover or T.xml.txt',\n",
       " 'Other-1692 1692 - Tryon Thomas 1634-1703 - The good house-wife made.xml.txt',\n",
       " 'Other-1692 1692 - jacques ii roi daposangle - The Jacobites Hudibras co.xml.txt',\n",
       " 'Other-1694 1694 - Ridpath George d 1726 Rid - The Scots episcopal innoc.xml.txt',\n",
       " 'Other-1695 1695 - Astell Mary 1668-1731 Nor - Letters concerning the lo.xml.txt',\n",
       " 'Other-1695 1695 - Blackwell John fl 1695 - An essay towards carrying.xml.txt',\n",
       " 'Other-1695 1695 - Goodwin Thomas 1600-1680 - A discourse of the true n.xml.txt',\n",
       " 'Other-1695 1695 - Locke John 1632-1704 - A vindication of The reas.xml.txt',\n",
       " 'Other-1697 1697 - Fenwick John 1645-1697 Tr - A full answer paragraph b.xml.txt',\n",
       " 'Other-1698 1698 - Clayton B hiebner israel - Mysterium sigillorum herb.xml.txt',\n",
       " 'Other-1699 1699 - King William 1663-1712 - Dialogues of the dead rel.xml.txt',\n",
       " 'Other-1700 1700 - Howard Edward - Remarks on the new philos.xml.txt',\n",
       " 'Other-1700 Printed in the year - DaposUrfey Thomas 1653-17 - An essay towards the theo.xml.txt',\n",
       " 'Other-Dec 6 1693 Dec 6 1693 - Shelton Joseph active 169 - A catalogue of curious bo.xml.txt',\n",
       " 'Other-Printed in the Year of ou - Anglesey Arthur Annesley - Englandaposs confusion or.xml.txt']"
      ]
     },
     "execution_count": 16,
     "metadata": {},
     "output_type": "execute_result"
    }
   ],
   "source": [
    "# just making sure that my travel corpus is good to go -\n",
    "trav_corpus.fileids()"
   ]
  },
  {
   "cell_type": "markdown",
   "metadata": {},
   "source": [
    "Analyzing the HTRC Genre Corpus\n",
    "The HTRC Genre corpus is organized by genre (if you rsync the directory rather than just download the files from the web the files are organized into subfolders by genre). For each genre there's a metadata file with all the volumes for that genre and then a set of compressed archives (.tar.gz) organized by time slice. Our strategy here will be as follows:\n",
    "- for each genre folder (fiction, drama, poetery)\n",
    "- read the metadata file into a table\n",
    "- for each compressed archive in the genre folder (*.tar.gz)\n",
    "    - for each tab-separated values file in the archive\n",
    "create a pseudo text\n",
    "        - for each word-count pair: add the word the specified number of times to our pseuedo text\n",
    "        - produce a classifier decision (a value how philosophical the text is\n",
    "add the prediction value to the corresponding row in the metadata table"
   ]
  },
  {
   "cell_type": "code",
   "execution_count": 17,
   "metadata": {
    "collapsed": true
   },
   "outputs": [],
   "source": [
    "from os import walk\n",
    "import pandas as pd\n",
    "from os.path import join\n",
    "import glob\n",
    "\n",
    "def get_genre_metadata_and_predictions(genre_dir, clf, vectorizer):\n",
    "    metadatas = {}\n",
    "    for (dirpath, dirnames, filenames) in walk(htrc_genre_dir):\n",
    "        for genre in dirnames:\n",
    "            genre_path = join(htrc_genre_dir, genre) \n",
    "            metadata = pd.read_csv(join(genre_path, genre+\"_metadata.csv\"), index_col=0)\n",
    "            metadata['prediction'] = [float(0)] * len(metadata)\n",
    "            for tgz in glob.glob(join(genre_path,\"*.tar.gz\")):\n",
    "                print(\"Analyzing \"+tgz)\n",
    "                tar = tarfile.open(tgz, \"r:gz\")\n",
    "                for tarinfo in tar:\n",
    "                    if tarinfo.isreg() and tarinfo.name.endswith(\"tsv\"):\n",
    "\n",
    "                        # read in the TSV file and expand the text (it would probably be quicker to\n",
    "                        # create a vectorizer that can use the feature counts directly, but oh well\n",
    "                        text = \"\"\n",
    "                        tsv = tar.extractfile(tarinfo)\n",
    "                        for line in tsv.readlines():\n",
    "                            word, count = line.decode(\"utf-8\").strip().split(\"\\t\")\n",
    "                            if any(c for c in word if c.isalpha()):\n",
    "                                text += (word + \" \") * int(count)\n",
    "\n",
    "                        # predict the class\n",
    "                        X_test = vectorizer.transform([text])\n",
    "                        metadata['prediction'][tarinfo.name[0:-4]] = clf.decision_function(X_test)[0]\n",
    "\n",
    "                tar.close()\n",
    "            metadatas[genre] = metadata.sort('prediction', ascending=False)\n",
    "        break\n",
    "    return metadatas"
   ]
  },
  {
   "cell_type": "markdown",
   "metadata": {},
   "source": [
    "Now we should be ready to use our classifier on the HTRC Genre corpus. This returns a dictionary object with keys for each genre (fiction, drama, poetry) and values that are pandas dataframes with all the existing metadata for each volume, plus the philosophical prediction that we've added."
   ]
  },
  {
   "cell_type": "code",
   "execution_count": 18,
   "metadata": {
    "collapsed": false
   },
   "outputs": [],
   "source": [
    "htrc_genre_dir = \"C:/Users/broomgrass/iPython/HathiTrust/data\"\n",
    "trav_metadatas = get_genre_metadata_and_predictions(htrc_genre_dir, trav_clf, stopword_vectorizer)"
   ]
  },
  {
   "cell_type": "markdown",
   "metadata": {},
   "source": [
    "We can have a quick peek to see how many volumes are contained in each genre:\n"
   ]
  },
  {
   "cell_type": "code",
   "execution_count": 19,
   "metadata": {
    "collapsed": false
   },
   "outputs": [
    {
     "name": "stdout",
     "output_type": "stream",
     "text": [
      "total: 0\n"
     ]
    }
   ],
   "source": [
    "total = 0\n",
    "for genre, metadata in trav_metadatas.items():\n",
    "    total += len(metadata.index)\n",
    "    print(genre+\": \"+\"{:,}\".format(len(metadata.index)))\n",
    "print(\"total: \"+\"{:,}\".format(total))"
   ]
  },
  {
   "cell_type": "markdown",
   "metadata": {},
   "source": [
    "Well, that is *not* what I wanted at all. After looking at everything, I'm not sure exactly where the problem is. My file structure looks like this: <img src=\"screenshot.png\">\n",
    "\n",
    "I suppose a first step is to ask Stefan what the file structure looked like, though this seems to match what was described?\n",
    "\n",
    "A second step is to go through the code more thoroughly, though I have already pored through it and can't see exactly where it went wrong. I changed all the variables to match my own (ie., trav vs philo in the [original notebook](https://github.com/htrc/ACS-TT/blob/master/tools/notebooks/ClassifyingHtrcGenreWordFrequencies.ipynb)) but maybe I missed something."
   ]
  },
  {
   "cell_type": "markdown",
   "metadata": {
    "collapsed": true
   },
   "source": [
    "The next step is as follows, but of course it isn't going to work..."
   ]
  },
  {
   "cell_type": "markdown",
   "metadata": {
    "collapsed": true
   },
   "source": [
    "Ok, so let's rub our hands together in anticipation and have a closer look at the predictions. For each genre, let's enumerate the 15 most philosophical texts (i.e. the texts that were assigned the highest values by our philosophical classifier)."
   ]
  },
  {
   "cell_type": "code",
   "execution_count": 23,
   "metadata": {
    "collapsed": true
   },
   "outputs": [],
   "source": [
    "for genre, metadata in trav_metadatas.items():\n",
    "    print(genre)\n",
    "    for name, row in metadata.head(15).iterrows():\n",
    "        print(\"  \"+str(row['prediction']) + \": \" + str(row[\"author\"]) + \" \" + str(row[\"title\"])[:40] + \" (\"+ name+\")\")"
   ]
  },
  {
   "cell_type": "code",
   "execution_count": null,
   "metadata": {
    "collapsed": true
   },
   "outputs": [],
   "source": []
  }
 ],
 "metadata": {
  "kernelspec": {
   "display_name": "Python 3",
   "language": "python",
   "name": "python3"
  },
  "language_info": {
   "codemirror_mode": {
    "name": "ipython",
    "version": 3
   },
   "file_extension": ".py",
   "mimetype": "text/x-python",
   "name": "python",
   "nbconvert_exporter": "python",
   "pygments_lexer": "ipython3",
   "version": "3.5.1"
  }
 },
 "nbformat": 4,
 "nbformat_minor": 0
}
